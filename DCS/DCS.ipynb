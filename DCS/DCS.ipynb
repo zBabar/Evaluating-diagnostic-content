{
 "cells": [
  {
   "cell_type": "code",
   "execution_count": 1,
   "id": "879d1dfe",
   "metadata": {},
   "outputs": [],
   "source": [
    "import pandas as pd\n",
    "import numpy as np\n",
    "import json\n",
    "from sklearn.feature_extraction.text import CountVectorizer\n",
    "import re\n",
    "import nltk\n",
    "from sklearn.metrics import accuracy_score, f1_score\n",
    "from sklearn.naive_bayes import MultinomialNB\n",
    "from sklearn.multiclass import OneVsRestClassifier\n",
    "from sklearn.pipeline import Pipeline"
   ]
  },
  {
   "cell_type": "code",
   "execution_count": 2,
   "id": "d65bbaec",
   "metadata": {},
   "outputs": [],
   "source": [
    "generated_report_path = \"iu_xray_reports_semantic.csv\"\n",
    "#path='/media/zaheer/Data/Image_Text_Datasets/IU_Xray/latest/One_Image_norm_abnorm_split/r2gen_annotations/'\n",
    "\n",
    "labels = pd.read_csv('chexbert_labels.csv').drop(columns = ['Unnamed: 0'])"
   ]
  },
  {
   "cell_type": "code",
   "execution_count": 3,
   "id": "29a44588",
   "metadata": {},
   "outputs": [],
   "source": [
    "def load_data():\n",
    "\n",
    "    with open('new_annotation.json', 'rb') as f:\n",
    "        data = json.load(f)\n",
    "    \n",
    "    return data\n",
    "\n",
    "def load_generated_reports():  \n",
    "    \n",
    "    reports = pd.read_csv(generated_report_path)\n",
    "    \n",
    "    return reports\n",
    "\n",
    "def clean_data(text):\n",
    "    words = nltk.word_tokenize(text)\n",
    "    words = ' '.join([word.lower() for word in words if word.isalpha()])\n",
    "    return words\n",
    "\n",
    "def docTo_Mat(train, test, ngram = (1,1)):\n",
    "    \n",
    "    train=[clean_data(text) for text in train]\n",
    "    test=[clean_data(text) for text in test]\n",
    "    \n",
    "    vectorizer = CountVectorizer(stop_words='english', ngram_range = ngram, min_df=1, lowercase=True)\n",
    "    \n",
    "    train = vectorizer.fit_transform(train)\n",
    "    test = vectorizer.transform(test)\n",
    "    print(train.shape, test.shape)\n",
    "\n",
    "    return train.toarray(), test.toarray()\n",
    "\n",
    "def DCS(ground_truth, mlb_predicted):\n",
    "    \n",
    "    scores = []\n",
    "    \n",
    "    for index, predict in mlb_predicted.iterrows():\n",
    "        \n",
    "        gt = ground_truth[index, :]\n",
    "        if (sum(gt) != 0 and sum(predict) != 0):\n",
    "            scores.append(f1_score(gt, predict, zero_division = 0))\n",
    "        \n",
    "    print(np.mean(scores))\n",
    "    \n",
    "def multi_label_prediction(train_reports, test_reports, test = 'report', ngram = None):\n",
    "    \n",
    "    X_train = train_reports['report'] \n",
    "    X_test = test_reports[test]\n",
    "    y_train = train_reports.iloc[:,2:].to_numpy()\n",
    "    y_test = test_reports.iloc[:,3:].to_numpy()\n",
    "    \n",
    "    \n",
    "    classes = train_reports.iloc[:,2:].columns\n",
    "    \n",
    "    X_train, X_test = docTo_Mat(X_train, X_test, ngram)\n",
    "    \n",
    "    mlb_predicted = pd.DataFrame([])\n",
    "    mlb_prob = pd.DataFrame([])\n",
    "    scores= pd.DataFrame([])\n",
    "    \n",
    "    NB_pipeline = Pipeline([('clf', MultinomialNB(fit_prior=True, class_prior=None))])\n",
    "    \n",
    "    for idx, category in enumerate(classes):\n",
    "        \n",
    "        NB_pipeline.fit(X_train, y_train[:,idx])\n",
    "        \n",
    "        prediction = NB_pipeline.predict(X_test)\n",
    "        prob_prediction = NB_pipeline.predict_proba(X_test)\n",
    "        \n",
    "        mlb_prob[category] = prob_prediction[:,1]\n",
    "        mlb_predicted[category] = prediction\n",
    "        \n",
    "    DCS(y_test, mlb_predicted)\n",
    "    "
   ]
  },
  {
   "cell_type": "code",
   "execution_count": 4,
   "id": "01cd67c6",
   "metadata": {},
   "outputs": [],
   "source": [
    "data = load_data()\n",
    "\n",
    "generated_reports = load_generated_reports()\n",
    "\n",
    "test_reports = pd.DataFrame(data['test'])\n",
    "test_reports['report_id'] = test_reports['id'].apply(lambda x: x.split('_')[0])\n",
    "test_reports.drop(columns = ['id','image_path','split'], inplace = True)\n",
    "\n",
    "train_reports = pd.DataFrame(data['train'])\n",
    "train_reports['report_id'] = train_reports['id'].apply(lambda x: x.split('_')[0])\n",
    "train_reports.drop(columns = ['id','image_path','split'], inplace = True)"
   ]
  },
  {
   "cell_type": "code",
   "execution_count": 5,
   "id": "ebc343a2",
   "metadata": {},
   "outputs": [],
   "source": [
    "test_reports['report'] = generated_reports['gts']\n",
    "test_reports['generated_report'] = generated_reports['res']"
   ]
  },
  {
   "cell_type": "code",
   "execution_count": 6,
   "id": "6c3c30cd",
   "metadata": {},
   "outputs": [],
   "source": [
    "train_reports = pd.merge(train_reports, labels, on = 'report_id', how = 'inner')\n",
    "test_reports = pd.merge(test_reports, labels, on = 'report_id', how = 'inner')"
   ]
  },
  {
   "cell_type": "code",
   "execution_count": 7,
   "id": "42f768d7",
   "metadata": {},
   "outputs": [],
   "source": [
    "# for i in range(1,5):\n",
    "#     multi_label_prediction(train_reports, test_reports, test = 'report', ngram = (i,i))"
   ]
  },
  {
   "cell_type": "code",
   "execution_count": 8,
   "id": "c790bc32",
   "metadata": {},
   "outputs": [
    {
     "name": "stdout",
     "output_type": "stream",
     "text": [
      "(2063, 1248) (590, 1248)\n",
      "0.8186619718309859\n",
      "(2063, 8522) (590, 8522)\n",
      "0.8186619718309859\n",
      "(2063, 15305) (590, 15305)\n",
      "0.8186619718309859\n",
      "(2063, 19364) (590, 19364)\n",
      "0.8186619718309859\n"
     ]
    }
   ],
   "source": [
    "for i in range(1,5):\n",
    "    multi_label_prediction(train_reports, test_reports, test = 'generated_report', ngram = (i,i))"
   ]
  },
  {
   "cell_type": "code",
   "execution_count": null,
   "id": "7197c377",
   "metadata": {},
   "outputs": [],
   "source": []
  }
 ],
 "metadata": {
  "kernelspec": {
   "display_name": "Python 3 (ipykernel)",
   "language": "python",
   "name": "python3"
  },
  "language_info": {
   "codemirror_mode": {
    "name": "ipython",
    "version": 3
   },
   "file_extension": ".py",
   "mimetype": "text/x-python",
   "name": "python",
   "nbconvert_exporter": "python",
   "pygments_lexer": "ipython3",
   "version": "3.8.13"
  }
 },
 "nbformat": 4,
 "nbformat_minor": 5
}
