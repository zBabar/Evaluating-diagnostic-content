{
 "cells": [
  {
   "cell_type": "code",
   "execution_count": 1,
   "metadata": {},
   "outputs": [],
   "source": [
    "import numpy as np\n",
    "from json import load\n",
    "from math import ceil\n",
    "import pandas as pd\n",
    "import nltk\n",
    "import pickle as pkl\n",
    "import os, csv\n",
    "\n",
    "from core1.pycocoevalcap.meteor.meteor import Meteor\n",
    "from core1.pycocoevalcap.rouge.rouge import Rouge\n",
    "from core1.pycocoevalcap.cider.cider import Cider\n",
    "from core1.pycocoevalcap.bleu.bleu import Bleu"
   ]
  },
  {
   "cell_type": "code",
   "execution_count": 2,
   "metadata": {},
   "outputs": [],
   "source": [
    "def compute_findings_metrics(test_set, predictions,testIDs):\n",
    "    gts = {} # ground truth\n",
    "    res = {}\n",
    "    \n",
    "    # Compile ground_truth and candidate predictions dictionaries\n",
    "    for i, id in enumerate(testIDs):\n",
    "        words = nltk.word_tokenize(test_set[i])\n",
    "        test_set[i]=test_set[i].replace('[','').replace(']','').replace('.','').replace(',','').replace(\"'\",'').split()#replace('<','').replace('>','').replace('S','').replace('/','').split()\n",
    "        \n",
    "        predictions[i]=predictions[i].replace('[','').replace('.','').replace(',','').replace(']','').replace(\"'\",'').split()#replace('<','').replace('>','').replace('S','').replace('/','').split()\n",
    "        \n",
    "        #print(words)\n",
    "        test=[]\n",
    "        test.append(words)\n",
    "        \n",
    "        print(predictions[i])\n",
    "        #print('ground:',[' '.join(test_set[i])],'cand:',[' '.join(predictions[i])])\n",
    "        gts[id] = [' '.join(test_set[i])]\n",
    "        res[id] = [' '.join(predictions[i])]  \n",
    "        \n",
    "        \n",
    "        \n",
    "    #print(gts.keys())\n",
    "    #print(res.keys())\n",
    "    scorers = [\n",
    "    (Bleu(4), [\"Bleu_1\", \"Bleu_2\", \"Bleu_3\", \"Bleu_4\"]),\n",
    "    (Meteor(),\"METEOR\"),\n",
    "    (Rouge(), \"ROUGE_L\"),\n",
    "    ]    \n",
    "\n",
    "    all_scores = {}\n",
    "    peer_by_peer_scores = []\n",
    "    for scorer, method in scorers:\n",
    "        #print(scorer)\n",
    "        score, scores = scorer.compute_score(gts=gts, res=res)\n",
    "        if type(method) == list:\n",
    "            for sc, scs, m in zip(score, scores, method):\n",
    "                sc = \"{0:.3f}\".format(sc)\n",
    "                print(\"{}: {}\".format(m, sc))\n",
    "                all_scores[m] = sc\n",
    "                peer_by_peer_scores.append(scs)  \n",
    "        else:\n",
    "            score = \"{0:.3f}\".format(score)\n",
    "            print(\"{}: {}\".format(method, score))\n",
    "            all_scores[method] = score\n",
    "            peer_by_peer_scores.append(scores) \n",
    "    # Save the peer-by-peer scores, candidate predictions and ground truth sentences to CSV\n",
    "    #save_to_csv(peer_by_peer_scores, [res[id] for id in testIDs], [gts[id] for id in testIDs], filename)    \n",
    "    return all_scores"
   ]
  },
  {
   "cell_type": "code",
   "execution_count": 3,
   "metadata": {},
   "outputs": [
    {
     "name": "stdout",
     "output_type": "stream",
     "text": [
      "['no', 'acute', 'cardiopulmonary', 'disease', 'the', 'heart', 'pulmonary', 'xxxx', 'and', 'mediastinum', 'are', 'within', 'normal', 'limits', 'there', 'is', 'no', 'pleural', 'effusion', 'or', 'pneumothorax', 'there', 'is', 'no', 'focal', 'air', 'space', 'opacity', 'to', 'suggest', 'a', 'pneumonia']\n"
     ]
    },
    {
     "name": "stderr",
     "output_type": "stream",
     "text": [
      "/home/zaheer/anaconda3/lib/python3.7/site-packages/ipykernel_launcher.py:8: SettingWithCopyWarning: \n",
      "A value is trying to be set on a copy of a slice from a DataFrame\n",
      "\n",
      "See the caveats in the documentation: http://pandas.pydata.org/pandas-docs/stable/user_guide/indexing.html#returning-a-view-versus-a-copy\n",
      "  \n",
      "/home/zaheer/anaconda3/lib/python3.7/site-packages/ipykernel_launcher.py:10: SettingWithCopyWarning: \n",
      "A value is trying to be set on a copy of a slice from a DataFrame\n",
      "\n",
      "See the caveats in the documentation: http://pandas.pydata.org/pandas-docs/stable/user_guide/indexing.html#returning-a-view-versus-a-copy\n",
      "  # Remove the CWD from sys.path while we load stuff.\n"
     ]
    },
    {
     "ename": "TypeError",
     "evalue": "unhashable type: 'numpy.ndarray'",
     "output_type": "error",
     "traceback": [
      "\u001b[0;31m---------------------------------------------------------------------------\u001b[0m",
      "\u001b[0;31mTypeError\u001b[0m                                 Traceback (most recent call last)",
      "\u001b[0;32m<ipython-input-3-7ce14ed03044>\u001b[0m in \u001b[0;36m<module>\u001b[0;34m\u001b[0m\n\u001b[1;32m     14\u001b[0m \u001b[0;34m\u001b[0m\u001b[0m\n\u001b[1;32m     15\u001b[0m \u001b[0;34m\u001b[0m\u001b[0m\n\u001b[0;32m---> 16\u001b[0;31m \u001b[0mscore\u001b[0m\u001b[0;34m=\u001b[0m\u001b[0mcompute_findings_metrics\u001b[0m\u001b[0;34m(\u001b[0m\u001b[0mdata\u001b[0m\u001b[0;34m[\u001b[0m\u001b[0;34m'ref'\u001b[0m\u001b[0;34m]\u001b[0m\u001b[0;34m,\u001b[0m\u001b[0mdata\u001b[0m\u001b[0;34m[\u001b[0m\u001b[0;34m'cand'\u001b[0m\u001b[0;34m]\u001b[0m\u001b[0;34m,\u001b[0m\u001b[0mlist\u001b[0m\u001b[0;34m(\u001b[0m\u001b[0mfilenames\u001b[0m\u001b[0;34m)\u001b[0m\u001b[0;34m)\u001b[0m\u001b[0;34m\u001b[0m\u001b[0;34m\u001b[0m\u001b[0m\n\u001b[0m\u001b[1;32m     17\u001b[0m \u001b[0;31m#score=compute_findings_metrics(data['ref_sent'],data['cand_sent'],list(data['report_id_x']))\u001b[0m\u001b[0;34m\u001b[0m\u001b[0;34m\u001b[0m\u001b[0;34m\u001b[0m\u001b[0m\n",
      "\u001b[0;32m<ipython-input-2-4b33b781bdea>\u001b[0m in \u001b[0;36mcompute_findings_metrics\u001b[0;34m(test_set, predictions, testIDs)\u001b[0m\n\u001b[1;32m     16\u001b[0m         \u001b[0mprint\u001b[0m\u001b[0;34m(\u001b[0m\u001b[0mpredictions\u001b[0m\u001b[0;34m[\u001b[0m\u001b[0mi\u001b[0m\u001b[0;34m]\u001b[0m\u001b[0;34m)\u001b[0m\u001b[0;34m\u001b[0m\u001b[0;34m\u001b[0m\u001b[0m\n\u001b[1;32m     17\u001b[0m         \u001b[0;31m#print('ground:',[' '.join(test_set[i])],'cand:',[' '.join(predictions[i])])\u001b[0m\u001b[0;34m\u001b[0m\u001b[0;34m\u001b[0m\u001b[0;34m\u001b[0m\u001b[0m\n\u001b[0;32m---> 18\u001b[0;31m         \u001b[0mgts\u001b[0m\u001b[0;34m[\u001b[0m\u001b[0mid\u001b[0m\u001b[0;34m]\u001b[0m \u001b[0;34m=\u001b[0m \u001b[0;34m[\u001b[0m\u001b[0;34m' '\u001b[0m\u001b[0;34m.\u001b[0m\u001b[0mjoin\u001b[0m\u001b[0;34m(\u001b[0m\u001b[0mtest_set\u001b[0m\u001b[0;34m[\u001b[0m\u001b[0mi\u001b[0m\u001b[0;34m]\u001b[0m\u001b[0;34m)\u001b[0m\u001b[0;34m]\u001b[0m\u001b[0;34m\u001b[0m\u001b[0;34m\u001b[0m\u001b[0m\n\u001b[0m\u001b[1;32m     19\u001b[0m         \u001b[0mres\u001b[0m\u001b[0;34m[\u001b[0m\u001b[0mid\u001b[0m\u001b[0;34m]\u001b[0m \u001b[0;34m=\u001b[0m \u001b[0;34m[\u001b[0m\u001b[0;34m' '\u001b[0m\u001b[0;34m.\u001b[0m\u001b[0mjoin\u001b[0m\u001b[0;34m(\u001b[0m\u001b[0mpredictions\u001b[0m\u001b[0;34m[\u001b[0m\u001b[0mi\u001b[0m\u001b[0;34m]\u001b[0m\u001b[0;34m)\u001b[0m\u001b[0;34m]\u001b[0m\u001b[0;34m\u001b[0m\u001b[0;34m\u001b[0m\u001b[0m\n\u001b[1;32m     20\u001b[0m \u001b[0;34m\u001b[0m\u001b[0m\n",
      "\u001b[0;31mTypeError\u001b[0m: unhashable type: 'numpy.ndarray'"
     ]
    }
   ],
   "source": [
    "Path='/media/zaheer/Data/Image_Text_Datasets/IU_Xray/latest/Two_Images/sent/Sample_test/'\n",
    "#Path1='/home/zaheer/pythonCode/DCM/Two_Images/true_list_f1.csv'\n",
    "split='test'\n",
    "\n",
    "data={}\n",
    "#generated_data=\n",
    "with open(os.path.join(Path+'test/', '%s.file.names.pkl' %split), 'rb') as f:\n",
    "        filenames = pkl.load(f)  \n",
    "\n",
    "data=pd.read_csv(Path+'all.csv')\n",
    "\n",
    "#data=pd.read_csv(Path1)\n",
    "\n",
    "\n",
    "\n",
    "score=compute_findings_metrics(data['ref'],data['cand'],list(filenames))\n",
    "#score=compute_findings_metrics(data['ref_sent'],data['cand_sent'],list(data['report_id_x']))"
   ]
  }
 ],
 "metadata": {
  "kernelspec": {
   "display_name": "Python 3",
   "language": "python",
   "name": "python3"
  },
  "language_info": {
   "codemirror_mode": {
    "name": "ipython",
    "version": 3
   },
   "file_extension": ".py",
   "mimetype": "text/x-python",
   "name": "python",
   "nbconvert_exporter": "python",
   "pygments_lexer": "ipython3",
   "version": "3.7.6"
  }
 },
 "nbformat": 4,
 "nbformat_minor": 2
}
