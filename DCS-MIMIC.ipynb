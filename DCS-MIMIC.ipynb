{
 "cells": [
  {
   "cell_type": "code",
   "execution_count": 1,
   "id": "5bb7c87d",
   "metadata": {},
   "outputs": [],
   "source": [
    "import pandas as pd\n",
    "import numpy as np\n",
    "import json\n",
    "from sklearn.feature_extraction.text import CountVectorizer\n",
    "import re\n",
    "import nltk\n",
    "from sklearn.metrics import accuracy_score, f1_score\n",
    "from sklearn.naive_bayes import MultinomialNB\n",
    "from sklearn.multiclass import OneVsRestClassifier\n",
    "from sklearn.pipeline import Pipeline\n",
    "\n",
    "Pneumonia Consolidation Cardiomegaly Pneumothorax Atelectasis Edema\n",
    "Pleural Effusion\n",
    "\n",
    "CLASS_NAMES = [ 'Atelectasis', 'Cardiomegaly', 'Effusion', 'Pneumonia',\n",
    "                'Pneumothorax', 'Consolidation', 'Edema']\n",
    "\n"
   ]
  },
  {
   "cell_type": "code",
   "execution_count": 2,
   "id": "1c2ddeaf",
   "metadata": {},
   "outputs": [],
   "source": [
    "generated_report_path = \"./mimic_data/mimic_cxr_reports_bert_dense1.csv\"\n",
    "path='/media/zaheer/Data/Image_Text_Datasets/IU_Xray/latest/One_Image_norm_abnorm_split/r2gen_annotations/'\n",
    "\n",
    "labels = pd.read_csv('./mimic_data/chexbert_labels.csv')#.drop(columns = ['Unnamed: 0'])"
   ]
  },
  {
   "cell_type": "code",
   "execution_count": 3,
   "id": "01d2e5dc",
   "metadata": {},
   "outputs": [],
   "source": [
    "def load_data():\n",
    "\n",
    "    with open('./mimic_data/annotation_50k.json', 'rb') as f:\n",
    "        data = json.load(f)\n",
    "    \n",
    "    return data\n",
    "\n",
    "def load_generated_reports():  \n",
    "    \n",
    "    reports = pd.read_csv(generated_report_path)\n",
    "    \n",
    "    return reports\n",
    "\n",
    "def clean_data(text):\n",
    "    words = nltk.word_tokenize(text)\n",
    "    words = ' '.join([word.lower() for word in words if word.isalpha()])\n",
    "    return words\n",
    "\n",
    "def docTo_Mat(train, test, ngram = (1,1)):\n",
    "    \n",
    "    train=[clean_data(text) for text in train]\n",
    "    test=[clean_data(text) for text in test]\n",
    "    \n",
    "    vectorizer = CountVectorizer(stop_words='english', ngram_range = ngram, min_df=1, lowercase=True)\n",
    "    \n",
    "    train = vectorizer.fit_transform(train)\n",
    "    test = vectorizer.transform(test)\n",
    "    print(train.shape, test.shape)\n",
    "\n",
    "    return train.toarray(), test.toarray()\n",
    "\n",
    "def DCS(ground_truth, mlb_predicted):\n",
    "    \n",
    "    scores = []\n",
    "    \n",
    "    for index, predict in mlb_predicted.iterrows():\n",
    "        \n",
    "        gt = ground_truth[index, :]\n",
    "        #if (sum(gt) != 0 and sum(predict) != 0):\n",
    "        scores.append(f1_score(gt, predict, zero_division = 0))\n",
    "        \n",
    "    print(np.mean(scores))\n",
    "    \n",
    "def multi_label_prediction(train_reports, test_reports, test = 'report', ngram = None):\n",
    "    \n",
    "    X_train = train_reports['report'] \n",
    "    X_test = test_reports[test]\n",
    "    y_train = train_reports.iloc[:,2:].to_numpy()\n",
    "    y_test = test_reports.iloc[:,3:].to_numpy()\n",
    "    \n",
    "    \n",
    "    classes = train_reports.iloc[:,2:].columns\n",
    "    \n",
    "    X_train, X_test = docTo_Mat(X_train, X_test, ngram)\n",
    "    \n",
    "    mlb_predicted = pd.DataFrame([])\n",
    "    mlb_prob = pd.DataFrame([])\n",
    "    scores= pd.DataFrame([])\n",
    "    \n",
    "    NB_pipeline = Pipeline([('clf', MultinomialNB(fit_prior=True, class_prior=None))])\n",
    "    \n",
    "    for idx, category in enumerate(classes):\n",
    "        \n",
    "        NB_pipeline.fit(X_train, y_train[:,idx])\n",
    "        \n",
    "        prediction = NB_pipeline.predict(X_test)\n",
    "        prob_prediction = NB_pipeline.predict_proba(X_test)\n",
    "        \n",
    "        mlb_prob[category] = prob_prediction[:,1]\n",
    "        mlb_predicted[category] = prediction\n",
    "        \n",
    "    DCS(y_test, mlb_predicted)\n",
    "    "
   ]
  },
  {
   "cell_type": "code",
   "execution_count": 4,
   "id": "6a177c87",
   "metadata": {},
   "outputs": [],
   "source": [
    "data = load_data()\n",
    "\n",
    "generated_reports = load_generated_reports()\n",
    "\n",
    "test_reports = pd.DataFrame(data['test'])\n",
    "test_reports['report_id'] = test_reports['image_path'].apply(lambda x: x[0])\n",
    "test_reports.drop(columns = ['id','image_path','split','study_id','subject_id'], inplace = True)\n",
    "\n",
    "train_reports = pd.DataFrame(data['train'])\n",
    "train_reports['report_id'] = train_reports['image_path'].apply(lambda x: x[0])\n",
    "train_reports.drop(columns = ['id','image_path','split','study_id','subject_id'], inplace = True)"
   ]
  },
  {
   "cell_type": "code",
   "execution_count": 5,
   "id": "da70ce57",
   "metadata": {},
   "outputs": [],
   "source": [
    "test_reports['report'] = generated_reports['gts']\n",
    "test_reports['generated_report'] = generated_reports['res']"
   ]
  },
  {
   "cell_type": "code",
   "execution_count": 6,
   "id": "074ae2ad",
   "metadata": {},
   "outputs": [],
   "source": [
    "train_reports = pd.merge(train_reports, labels, on = 'report_id', how = 'inner')\n",
    "test_reports = pd.merge(test_reports, labels, on = 'report_id', how = 'inner')"
   ]
  },
  {
   "cell_type": "code",
   "execution_count": 7,
   "id": "2ffbf001",
   "metadata": {},
   "outputs": [],
   "source": [
    "#for i in range(1,5):\n",
    "#multi_label_prediction(train_reports, test_reports, test = 'report', ngram = (1,1))"
   ]
  },
  {
   "cell_type": "code",
   "execution_count": 8,
   "id": "b1ab9877",
   "metadata": {},
   "outputs": [
    {
     "name": "stdout",
     "output_type": "stream",
     "text": [
      "(270790, 9122) (3858, 9122)\n",
      "0.20481446725614688\n"
     ]
    }
   ],
   "source": [
    "#for i in range(1,5):\n",
    "multi_label_prediction(train_reports, test_reports, test = 'generated_report', ngram = (1,1))"
   ]
  },
  {
   "cell_type": "code",
   "execution_count": null,
   "id": "78308032",
   "metadata": {},
   "outputs": [],
   "source": []
  }
 ],
 "metadata": {
  "kernelspec": {
   "display_name": "Python 3 (ipykernel)",
   "language": "python",
   "name": "python3"
  },
  "language_info": {
   "codemirror_mode": {
    "name": "ipython",
    "version": 3
   },
   "file_extension": ".py",
   "mimetype": "text/x-python",
   "name": "python",
   "nbconvert_exporter": "python",
   "pygments_lexer": "ipython3",
   "version": "3.8.13"
  }
 },
 "nbformat": 4,
 "nbformat_minor": 5
}
